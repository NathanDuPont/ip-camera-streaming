{
 "cells": [
  {
   "cell_type": "code",
   "execution_count": 1,
   "metadata": {},
   "outputs": [],
   "source": [
    "import os\n",
    "\n",
    "from os import path\n",
    "from datetime import datetime"
   ]
  },
  {
   "cell_type": "code",
   "execution_count": 11,
   "metadata": {},
   "outputs": [],
   "source": [
    "common_dir = 'img/'\n",
    "searchable_dir = 'cam'\n",
    "\n",
    "example_imgs = [['cam1_img_20200724_074611966143.jpg', 'cam1_img_20200724_074617268030.jpg', 'cam1_img_20200724_074622574105.jpg', 'cam1_img_20200724_074627836415.jpg', 'cam1_img_20200724_093008791981.jpg']]"
   ]
  },
  {
   "cell_type": "code",
   "execution_count": 20,
   "metadata": {},
   "outputs": [
    {
     "name": "stdout",
     "output_type": "stream",
     "text": [
      "New partition starting at cam0_img_20200724_074611811051.jpg\n",
      "New partition starting at cam0_img_20200725_000001569382.jpg\n",
      "New partition starting at cam0_img_20200725_000002768641.jpg\n",
      "New partition starting at cam0_img_20200725_000101105926.jpg\n",
      "New partition starting at cam0_img_20200725_010000653630.jpg\n",
      "New partition starting at cam0_img_20200726_000001987127.jpg\n",
      "New partition starting at cam0_img_20200726_000004155380.jpg\n",
      "New partition starting at cam0_img_20200726_000101855133.jpg\n",
      "New partition starting at cam0_img_20200726_010000137980.jpg\n",
      "New partition starting at cam1_img_20200725_000001655328.jpg\n",
      "New partition starting at cam1_img_20200725_000002897561.jpg\n",
      "New partition starting at cam1_img_20200725_000101228592.jpg\n",
      "New partition starting at cam1_img_20200725_010000787665.jpg\n",
      "New partition starting at cam1_img_20200726_000003063156.jpg\n",
      "New partition starting at cam1_img_20200726_000100207099.jpg\n",
      "New partition starting at cam1_img_20200726_010000369396.jpg\n"
     ]
    },
    {
     "ename": "UnboundLocalError",
     "evalue": "local variable 'timestamp' referenced before assignment",
     "output_type": "error",
     "traceback": [
      "\u001b[1;31m---------------------------------------------------------------------------\u001b[0m",
      "\u001b[1;31mUnboundLocalError\u001b[0m                         Traceback (most recent call last)",
      "\u001b[1;32m<ipython-input-20-410faab1a4b1>\u001b[0m in \u001b[0;36m<module>\u001b[1;34m()\u001b[0m\n\u001b[0;32m     45\u001b[0m             \u001b[0mprevious_time\u001b[0m \u001b[1;33m=\u001b[0m \u001b[0mcurrent_time\u001b[0m\u001b[1;33m\u001b[0m\u001b[0m\n\u001b[0;32m     46\u001b[0m \u001b[1;33m\u001b[0m\u001b[0m\n\u001b[1;32m---> 47\u001b[1;33m \u001b[0mdefine_image_partitions\u001b[0m\u001b[1;33m(\u001b[0m\u001b[1;33m)\u001b[0m\u001b[1;33m\u001b[0m\u001b[0m\n\u001b[0m",
      "\u001b[1;32m<ipython-input-20-410faab1a4b1>\u001b[0m in \u001b[0;36mdefine_image_partitions\u001b[1;34m()\u001b[0m\n\u001b[0;32m     39\u001b[0m     \u001b[1;32mfor\u001b[0m \u001b[0mimg_set\u001b[0m \u001b[1;32min\u001b[0m \u001b[0mall_imgs\u001b[0m\u001b[1;33m:\u001b[0m\u001b[1;33m\u001b[0m\u001b[0m\n\u001b[0;32m     40\u001b[0m         \u001b[1;32mfor\u001b[0m \u001b[0mimg\u001b[0m \u001b[1;32min\u001b[0m \u001b[0mimg_set\u001b[0m\u001b[1;33m:\u001b[0m\u001b[1;33m\u001b[0m\u001b[0m\n\u001b[1;32m---> 41\u001b[1;33m             \u001b[0mcurrent_time\u001b[0m \u001b[1;33m=\u001b[0m \u001b[0mparse_time_from_img\u001b[0m\u001b[1;33m(\u001b[0m\u001b[0mimg\u001b[0m\u001b[1;33m)\u001b[0m\u001b[1;33m\u001b[0m\u001b[0m\n\u001b[0m\u001b[0;32m     42\u001b[0m             \u001b[1;32mif\u001b[0m \u001b[1;33m(\u001b[0m\u001b[0mcurrent_time\u001b[0m \u001b[1;33m-\u001b[0m \u001b[0mprevious_time\u001b[0m\u001b[1;33m)\u001b[0m \u001b[1;33m>\u001b[0m \u001b[1;33m(\u001b[0m\u001b[0mprevious_time\u001b[0m \u001b[1;33m*\u001b[0m \u001b[1;36m0.6\u001b[0m\u001b[1;33m)\u001b[0m\u001b[1;33m:\u001b[0m\u001b[1;33m\u001b[0m\u001b[0m\n\u001b[0;32m     43\u001b[0m                 \u001b[0mprint\u001b[0m\u001b[1;33m(\u001b[0m\u001b[1;34mf'New partition starting at {img}'\u001b[0m\u001b[1;33m)\u001b[0m\u001b[1;33m\u001b[0m\u001b[0m\n",
      "\u001b[1;32m<ipython-input-20-410faab1a4b1>\u001b[0m in \u001b[0;36mparse_time_from_img\u001b[1;34m(file_name)\u001b[0m\n\u001b[0;32m      8\u001b[0m     \u001b[1;32mexcept\u001b[0m\u001b[1;33m:\u001b[0m\u001b[1;33m\u001b[0m\u001b[0m\n\u001b[0;32m      9\u001b[0m         \u001b[0mfile_name\u001b[0m\u001b[1;33m\u001b[0m\u001b[0m\n\u001b[1;32m---> 10\u001b[1;33m     \u001b[1;32mreturn\u001b[0m \u001b[0mtimestamp\u001b[0m\u001b[1;33m\u001b[0m\u001b[0m\n\u001b[0m\u001b[0;32m     11\u001b[0m \u001b[1;33m\u001b[0m\u001b[0m\n\u001b[0;32m     12\u001b[0m \u001b[1;32mdef\u001b[0m \u001b[0mget_image_dirs\u001b[0m\u001b[1;33m(\u001b[0m\u001b[1;33m)\u001b[0m\u001b[1;33m:\u001b[0m\u001b[1;33m\u001b[0m\u001b[0m\n",
      "\u001b[1;31mUnboundLocalError\u001b[0m: local variable 'timestamp' referenced before assignment"
     ]
    }
   ],
   "source": [
    "def remove_file_extension(file_name):\n",
    "    return file_name.split('.')[0]\n",
    "\n",
    "def parse_time_from_img(file_name):\n",
    "    cleaned_file_name = remove_file_extension(file_name)\n",
    "    try:            \n",
    "        timestamp = int(cleaned_file_name.split('_')[3]) \n",
    "    except:\n",
    "        file_name\n",
    "    return timestamp\n",
    "\n",
    "def get_image_dirs():\n",
    "    dirs = os.listdir(common_dir)\n",
    "    \n",
    "    img_dirs = []\n",
    "    \n",
    "    for img_dir in dirs:\n",
    "        if searchable_dir in img_dir: # Make sure the folder being looked at is expected\n",
    "            img_dirs.append(common_dir + img_dir + '/')\n",
    "            \n",
    "    return img_dirs\n",
    "\n",
    "def get_all_imgs():\n",
    "    all_imgs = []\n",
    "    \n",
    "    img_dirs = get_image_dirs()\n",
    "    \n",
    "    for img_dir in img_dirs:\n",
    "        all_imgs.append(os.listdir(img_dir)) \n",
    "        \n",
    "    return all_imgs\n",
    "\n",
    "def define_image_partitions():\n",
    "    previous_time = 0\n",
    "    previous_time_gap = 0\n",
    "    \n",
    "    all_imgs = get_all_imgs()\n",
    "    \n",
    "    for img_set in all_imgs:\n",
    "        for img in img_set:   \n",
    "            current_time = parse_time_from_img(img)\n",
    "            if (current_time - previous_time) > (previous_time * 0.6):\n",
    "                print(f'New partition starting at {img}')\n",
    "                \n",
    "            previous_time = current_time\n",
    "                \n",
    "define_image_partitions()"
   ]
  },
  {
   "cell_type": "code",
   "execution_count": null,
   "metadata": {},
   "outputs": [],
   "source": []
  }
 ],
 "metadata": {
  "kernelspec": {
   "display_name": "Python 3",
   "language": "python",
   "name": "python3"
  },
  "language_info": {
   "codemirror_mode": {
    "name": "ipython",
    "version": 3
   },
   "file_extension": ".py",
   "mimetype": "text/x-python",
   "name": "python",
   "nbconvert_exporter": "python",
   "pygments_lexer": "ipython3",
   "version": "3.6.4"
  }
 },
 "nbformat": 4,
 "nbformat_minor": 2
}
