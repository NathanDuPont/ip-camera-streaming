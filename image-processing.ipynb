{
 "cells": [
  {
   "cell_type": "markdown",
   "metadata": {},
   "source": [
    "# Image Processing Notebook\n",
    " \n",
    "--- \n",
    "\n",
    "This notebook contains cells used to process an image corpus, obtained through the *image-acquisition* notebook or script. This will parse out the images and "
   ]
  },
  {
   "cell_type": "code",
   "execution_count": 1,
   "metadata": {},
   "outputs": [],
   "source": [
    "import os\n",
    "\n",
    "from os import path\n",
    "from datetime import datetime"
   ]
  },
  {
   "cell_type": "code",
   "execution_count": 3,
   "metadata": {},
   "outputs": [],
   "source": [
    "common_dir = 'img/'\n",
    "searchable_dir = 'cam'\n",
    "searchable_img_extensions = ['jpg', 'jpeg']"
   ]
  },
  {
   "cell_type": "code",
   "execution_count": 4,
   "metadata": {},
   "outputs": [],
   "source": [
    "def remove_file_extension(file_name):\n",
    "    file_name_split = file_name.split('.')\n",
    "    return file_name_split[0], file_name_split[1]\n",
    "\n",
    "def parse_time_from_img(file_name):    \n",
    "    try:            \n",
    "        return int(file_name.split('_')[3]) \n",
    "    except:\n",
    "        print('Error parsing time from timestamp')\n",
    "        return -1\n",
    "\n",
    "def get_image_dirs():\n",
    "    dirs = os.listdir(common_dir)\n",
    "    \n",
    "    img_dirs = []\n",
    "    \n",
    "    for img_dir in dirs:\n",
    "        if searchable_dir in img_dir: # Make sure the folder being looked at is expected\n",
    "            img_dirs.append(common_dir + img_dir + '/')\n",
    "            \n",
    "    return img_dirs\n",
    "\n",
    "def get_all_imgs():\n",
    "    all_imgs = []\n",
    "    \n",
    "    img_dirs = get_image_dirs()\n",
    "    \n",
    "    for img_dir in img_dirs:\n",
    "        all_imgs.append(os.listdir(img_dir)) \n",
    "        \n",
    "    return all_imgs\n",
    "\n",
    "def define_image_partitions():\n",
    "    previous_time = 0\n",
    "    previous_time_gap = 0\n",
    "    \n",
    "    file_partitions = []\n",
    "    \n",
    "    all_imgs = get_all_imgs()\n",
    "    \n",
    "    for img_set in all_imgs:\n",
    "        for img in img_set:   \n",
    "            cleaned_file_name, extension = remove_file_extension(img)\n",
    "            \n",
    "            if extension in searchable_img_extensions:\n",
    "            \n",
    "                current_time = parse_time_from_img(img)\n",
    "                if (current_time - previous_time) > (previous_time * 0.6):\n",
    "                    file_partitions.append(cleaned_file_name)\n",
    "\n",
    "                previous_time = current_time\n",
    "                \n",
    "    return file_partitions"
   ]
  },
  {
   "cell_type": "code",
   "execution_count": null,
   "metadata": {},
   "outputs": [],
   "source": [
    "# This function is used to maintenance purposes only - it removes all files present in any \n",
    "# of the storage folders\n",
    "def delete_all_images():\n",
    "    response = input('This function deletes all images currently saved. ' \n",
    "                     'Are you sure you want to continue? (y/n)')\n",
    "    \n",
    "    if (response != 'y'):\n",
    "        return\n",
    "    \n",
    "    print('Removing files...')    \n",
    "    shutil.rmtree(save_folder)"
   ]
  },
  {
   "cell_type": "code",
   "execution_count": null,
   "metadata": {},
   "outputs": [],
   "source": [
    "define_image_partitions()"
   ]
  }
 ],
 "metadata": {
  "kernelspec": {
   "display_name": "Python 3",
   "language": "python",
   "name": "python3"
  },
  "language_info": {
   "codemirror_mode": {
    "name": "ipython",
    "version": 3
   },
   "file_extension": ".py",
   "mimetype": "text/x-python",
   "name": "python",
   "nbconvert_exporter": "python",
   "pygments_lexer": "ipython3",
   "version": "3.6.13"
  }
 },
 "nbformat": 4,
 "nbformat_minor": 4
}
