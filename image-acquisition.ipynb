{
 "cells": [
  {
   "cell_type": "markdown",
   "metadata": {},
   "source": [
    "# Image Acquisition Notebook\n",
    " \n",
    "--- \n",
    "\n",
    "This notebook contains cells pertaining to acquiring images from camera feeds over URIs. This will save all of the images locally, for further processing use in the future. As a side note, images are saved in a pre-formatted way with UIDs defined by the camera sequence number, and the date/time of the image acquision."
   ]
  },
  {
   "cell_type": "code",
   "execution_count": 1,
   "metadata": {},
   "outputs": [],
   "source": [
    "import cv2\n",
    "import os\n",
    "\n",
    "import shutil\n",
    "from os import path\n",
    "from time import time\n",
    "from datetime import datetime"
   ]
  },
  {
   "cell_type": "markdown",
   "metadata": {},
   "source": [
    "### Program Variables\n",
    "Modify these variables in order to parameterize your image acquisition program."
   ]
  },
  {
   "cell_type": "code",
   "execution_count": 2,
   "metadata": {},
   "outputs": [],
   "source": [
    "# Defines how long to wait between captures\n",
    "image_interval_ms = 5000\n",
    "\n",
    "# Defines how long to capture images for. Set to 0 if\n",
    "# you wish to capture images indefinitely (or until quit)\n",
    "capture_elapsed_ms = 1;\n",
    "\n",
    "# Defines the URIs to look for the streams on\n",
    "camera_uris = [\"192.168.1.37\", \"192.168.1.39\"]\n",
    "\n",
    "# Defines the extensions to pull image frames from\n",
    "camera_stream_link = \"/mjpg/video.mjpg\"\n",
    "\n",
    "# Defines the parent folder to save images under\n",
    "save_folder = \"img\""
   ]
  },
  {
   "cell_type": "markdown",
   "metadata": {},
   "source": [
    "### Helper Functions\n",
    "Do not modify these functions unless you intend to change how the base program functions."
   ]
  },
  {
   "cell_type": "code",
   "execution_count": 3,
   "metadata": {},
   "outputs": [],
   "source": [
    "# Gets the current time in milliseconds, from epoch\n",
    "def get_current_ms():\n",
    "    return int(time() * 1000) \n",
    "\n",
    "# Defines a save directory local to the Jupyter Notebook\n",
    "def get_save_directory(cam_num):\n",
    "    return f\"{save_folder}/cam{cam_num}\"\n",
    "\n",
    "# Returns a unique timestamp-based name for a file\n",
    "def get_unique_image_id(cam_num):\n",
    "    date_stamp = f\"cam{cam_num}_img_{datetime.now()}\"\n",
    "    date_stamp = date_stamp.replace('-', '')\n",
    "    date_stamp = date_stamp.replace(':', '')\n",
    "    date_stamp = date_stamp.replace('.', '')\n",
    "    date_stamp = date_stamp.replace(' ', '_')\n",
    "    return date_stamp + '.jpg'\n",
    "\n",
    "# Create new URI for an image\n",
    "def get_new_image_uri(cam_num):\n",
    "    return get_save_directory(cam_num) + '/' + get_unique_image_id(cam_num)\n",
    "\n",
    "# Initialize by creating the paths as needed, and storing stream links. Returns the time\n",
    "# that the program finished initializing, in milliseconds from the epoch, and the links\n",
    "# to each stream\n",
    "def initialize():\n",
    "    stream_links = {}\n",
    "    \n",
    "    for index, ip in enumerate(camera_uris):\n",
    "        stream_links[index] = f\"http://{ip}{camera_stream_link}\" \n",
    "\n",
    "        if not path.exists(get_save_directory(index)):\n",
    "            os.makedirs(get_save_directory(index))\n",
    "            \n",
    "    return get_current_ms(), stream_links"
   ]
  },
  {
   "cell_type": "code",
   "execution_count": 4,
   "metadata": {},
   "outputs": [],
   "source": [
    "# This function is used to maintenance purposes only - it removes all files present in any \n",
    "# of the storage folders\n",
    "def delete_all_images():\n",
    "    response = input('This function deletes all images currently saved. ' \n",
    "                     'Are you sure you want to continue? (y/n)')\n",
    "    \n",
    "    if (response != 'y'):\n",
    "        return\n",
    "    \n",
    "    print('Removing files...')    \n",
    "    shutil.rmtree(save_folder)"
   ]
  },
  {
   "cell_type": "markdown",
   "metadata": {},
   "source": [
    "### Acquisition Loop\n",
    "Run the following cell in order to start the program. Populate the variables above depending on how you want the program to operate.\n",
    "\n",
    "You can manually exit the program by pressing 'Q' at any time. Running this in a Jupyter Notebook may cause this feature to fail, and instead the kernel stop button should be used."
   ]
  },
  {
   "cell_type": "code",
   "execution_count": 5,
   "metadata": {},
   "outputs": [
    {
     "name": "stdout",
     "output_type": "stream",
     "text": [
      "Beginning time lapse recording at an interval of 5.0 seconds/photo\n",
      "Hold [Ctrl]+[C], or [Esc] to exit\n"
     ]
    }
   ],
   "source": [
    "if __name__ == \"__main__\":\n",
    "    print(f'Beginning time lapse recording at an interval of {image_interval_ms/1000} seconds/photo')\n",
    "    print('Hold [Ctrl]+[C], or [Esc] to exit')\n",
    "    start_time_ms, stream_links = initialize()\n",
    "    \n",
    "    while True if capture_elapsed_ms <= 0 else ((get_current_ms() - start_time_ms) > capture_elapsed_ms):\n",
    "        for camera_id in stream_links.keys():\n",
    "            stream = cv2.VideoCapture(stream_links[camera_id])\n",
    "            ret, frame = stream.read()\n",
    "\n",
    "            cv2.imwrite(get_new_image_uri(camera_id), frame) \n",
    "            \n",
    "        if cv2.waitKey(image_interval_ms) == 27:\n",
    "            sys.exit()"
   ]
  }
 ],
 "metadata": {
  "kernelspec": {
   "display_name": "Python 3",
   "language": "python",
   "name": "python3"
  },
  "language_info": {
   "codemirror_mode": {
    "name": "ipython",
    "version": 3
   },
   "file_extension": ".py",
   "mimetype": "text/x-python",
   "name": "python",
   "nbconvert_exporter": "python",
   "pygments_lexer": "ipython3",
   "version": "3.7.3"
  }
 },
 "nbformat": 4,
 "nbformat_minor": 4
}
